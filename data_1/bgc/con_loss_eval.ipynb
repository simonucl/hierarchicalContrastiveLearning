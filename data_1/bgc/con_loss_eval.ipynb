{
 "cells": [
  {
   "cell_type": "code",
   "execution_count": 1,
   "metadata": {},
   "outputs": [
    {
     "name": "stderr",
     "output_type": "stream",
     "text": [
      "/home/simon/miniconda3/envs/multi/lib/python3.7/site-packages/tqdm/auto.py:22: TqdmWarning: IProgress not found. Please update jupyter and ipywidgets. See https://ipywidgets.readthedocs.io/en/stable/user_install.html\n",
      "  from .autonotebook import tqdm as notebook_tqdm\n"
     ]
    }
   ],
   "source": [
    "import pandas as pd\n",
    "import numpy as np\n",
    "import torch\n",
    "import json\n",
    "\n",
    "import random\n",
    "import sys\n",
    "import os\n",
    "sys.path.append('../../')\n",
    "from utils import *"
   ]
  },
  {
   "cell_type": "code",
   "execution_count": 3,
   "metadata": {},
   "outputs": [
    {
     "data": {
      "text/plain": [
       "[{'token': 'Title: The New York Times Daily Crossword Puzzles: Thursday, Volume 1. Text: Monday’s Crosswords Do with EaseTuesday’s Crosswords Not a BreezeWednesday’s Crosswords Harder StillThursday’s Crosswords Take Real SkillFriday’s Crosswords — You’ve Come This Far…Saturday’s Crosswords — You’re a Star!For millions of people, the New York Times crossword puzzles are as essential to each day as the first cup of coffee in the morning. Now, for the first time ever, these premier puzzles are available in six clever installments. With each day of the week, the puzzles increase gradually in skill level; Monday’s the easiest, but Saturday’s sure to challenge! Push your mental muscles a little harder each day with America’s favorite sophisticated — and fun — pastime: the New York Times crossword puzzles!The legendary Eugene T. Maleska was crossword editor of The New York Times from 1977 to 1993.',\n",
       "  'label': ['Nonfiction', 'Games']},\n",
       " {'token': 'Title: Creatures of the Night (Second Edition). Text: Two of literary comics modern masters present a pair of magical and disturbing stories of strange creatures who are not quite what they seem! In The Price, a mysterious feline engages in a nightly conflict with an unseen, vicious foe. The Daughter of Owls recounts an eerie tale of a beautiful orphan girl who was found clutching an owl pellet–and how those who would do her wrong would face bizarre, unforeseen consequences.Neil Gaiman (The Sandman, American Gods) delivers his award-winning magic and mystery, realized in Michael Zulli’s lavish paintings, newly re-designed in a beautiful new edition!',\n",
       "  'label': ['Fiction', 'Graphic Novels & Manga']},\n",
       " {'token': 'Title: Cornelia and the Audacious Escapades of the Somerset Sisters. Text: Eleven-year-old Cornelia is the daughter of two world-famous pianists—a legacy that should feel fabulous, but instead feels just plain lonely. She surrounds herself with dictionaries and other books to isolate herself from the outside world. But when a glamorous neighbor named Virginia Somerset moves next door with her servant Patel and a mischievous French bulldog named Mister Kinyatta, Cornelia discovers that the world is a much more exciting place than she had originally thought.An unforgettable story of friendship and adventure that takes readers around the world and back again, Cornelia and the Audacious Escapades of the Somerset Sisters is a dazzling first novel by Lesley M. M. Blume.From the Hardcover edition.',\n",
       "  'label': ['Children’s Books', 'Children’s Middle Grade Books']},\n",
       " {'token': \"Title: The Alchemist's Daughter. Text: During the English Age of Reason, a woman cloistered since birth learns that knowledge is no substitute for experience.Raised by her father in near isolation in the English countryside, Emilie Selden is trained as a brilliant natural philosopher and alchemist. In the spring of 1725, father and daughter embark upon their most daring alchemical experiment to date—attempting to breathe life into dead matter. But when Emilie—against her father’s wishes—experiences the passion of first love, she is banished to London, where she soon discovers she knows nothing about human nature—or her own family’s complicated past. So begins her shocking journey to enlightenment. Also available as a Random House Large Print edition and as an eBook\",\n",
       "  'label': ['Fiction', 'Historical Fiction']},\n",
       " {'token': 'Title: Dangerous Boy. Text: A modern-day retelling of The Strange Case of Dr. Jekyll and Mr. Hyde with a chilling twist Harper has never been worried about falling in love, something she is skeptical even exists. But everything changes when Logan moves to town, and to Harper’s shock, the two tumble into an intense romance. It’s everything she never thought she wanted. Then she meets Logan’s twin brother, Caleb, who was expelled from his last school. True, he’s a bad boy, but Harper can’t shake the feeling that there’s something deeply sinister about him–something dangerous. When Logan starts pulling away, Harper is convinced that Caleb’s shadowy past is the wedge being driven between them. But by the time she uncovers the truth, it may be too late. The author of Prada &amp; Prejudice, You Wish, and Ripple delivers a modern-day retelling of a famously gothic tale, full of suspense, lies, and romance.',\n",
       "  'label': ['Teen & Young Adult',\n",
       "   'Teen & Young Adult Mystery & Suspense',\n",
       "   'Teen & Young Adult Fiction',\n",
       "   'Teen & Young Adult Social Issues']}]"
      ]
     },
     "execution_count": 3,
     "metadata": {},
     "output_type": "execute_result"
    }
   ],
   "source": [
    "train_data = []\n",
    "with open('./train_data.jsonl', 'r') as f:\n",
    "    for line in f:\n",
    "        train_data.append(json.loads(line))\n",
    "train_data[:5]"
   ]
  },
  {
   "cell_type": "code",
   "execution_count": 4,
   "metadata": {},
   "outputs": [
    {
     "data": {
      "text/plain": [
       "{'Children’s Books': 0,\n",
       " 'Poetry': 1,\n",
       " 'Fiction': 2,\n",
       " 'Nonfiction': 3,\n",
       " 'Teen & Young Adult': 4,\n",
       " 'Classics': 5,\n",
       " 'Humor': 6,\n",
       " 'Children’s Middle Grade Books': 7,\n",
       " 'Step Into Reading': 8,\n",
       " 'Fantasy': 9,\n",
       " 'Spiritual Fiction': 10,\n",
       " 'Literary Fiction': 11,\n",
       " 'Gothic & Horror': 12,\n",
       " 'Mystery & Suspense': 13,\n",
       " 'Romance': 14,\n",
       " 'Science Fiction': 15,\n",
       " 'Women’s Fiction': 16,\n",
       " 'Historical Fiction': 17,\n",
       " 'Military Fiction': 18,\n",
       " 'Western Fiction': 19,\n",
       " 'Paranormal Fiction': 20,\n",
       " 'Graphic Novels & Manga': 21,\n",
       " 'Politics': 22,\n",
       " 'Pets': 23,\n",
       " 'Cooking': 24,\n",
       " 'Parenting': 25,\n",
       " 'Psychology': 26,\n",
       " 'Sports': 27,\n",
       " 'Travel': 28,\n",
       " 'Games': 29,\n",
       " 'History': 30,\n",
       " 'Popular Science': 31,\n",
       " 'Health & Fitness': 32,\n",
       " 'Religion & Philosophy': 33,\n",
       " 'Self-Improvement': 34,\n",
       " 'Reference': 35,\n",
       " 'Crafts, Home & Garden': 36,\n",
       " 'Arts & Entertainment': 37,\n",
       " 'Business': 38,\n",
       " 'Biography & Memoir': 39,\n",
       " 'Teen & Young Adult Mystery & Suspense': 40,\n",
       " 'Teen & Young Adult Historical Fiction': 41,\n",
       " 'Teen & Young Adult Nonfiction': 42,\n",
       " 'Teen & Young Adult Fantasy Fiction': 43,\n",
       " 'Teen & Young Adult Fiction': 44,\n",
       " 'Teen & Young Adult Action & Adventure': 45,\n",
       " 'Teen & Young Adult Social Issues': 46,\n",
       " 'Teen & Young Adult Science Fiction': 47,\n",
       " 'Teen & Young Adult Romance': 48,\n",
       " 'Nonfiction Classics': 49,\n",
       " 'Fiction Classics': 50,\n",
       " 'Literary Criticism': 51,\n",
       " 'Literary Collections': 52,\n",
       " 'Children’s Middle Grade Fantasy & Magical Books': 53,\n",
       " 'Children’s Middle Grade Sports Books': 54,\n",
       " 'Children’s Middle Grade Mystery & Detective Books': 55,\n",
       " 'Children’s Middle Grade Historical Books': 56,\n",
       " 'Children’s Middle Grade Action & Adventure Books': 57,\n",
       " 'Contemporary Fantasy': 58,\n",
       " 'Urban Fantasy': 59,\n",
       " 'Epic Fantasy': 60,\n",
       " 'Fairy Tales': 61,\n",
       " 'Cozy Mysteries': 62,\n",
       " 'Crime Mysteries': 63,\n",
       " 'Espionage Mysteries': 64,\n",
       " 'Noir Mysteries': 65,\n",
       " 'Suspense & Thriller': 66,\n",
       " 'Western Romance': 67,\n",
       " 'Contemporary Romance': 68,\n",
       " 'Historical Romance': 69,\n",
       " 'New Adult Romance': 70,\n",
       " 'Suspense Romance': 71,\n",
       " 'Regency Romance': 72,\n",
       " 'Paranormal Romance': 73,\n",
       " 'Erotica': 74,\n",
       " 'Space Opera': 75,\n",
       " 'Military Science Fiction': 76,\n",
       " 'Cyber Punk': 77,\n",
       " 'World Politics': 78,\n",
       " 'Domestic Politics': 79,\n",
       " 'Wine & Beverage': 80,\n",
       " 'Regional & Ethnic Cooking': 81,\n",
       " 'Food Memoir & Travel': 82,\n",
       " 'Cooking Methods': 83,\n",
       " 'Baking & Desserts': 84,\n",
       " 'Travel: Central & South America': 85,\n",
       " 'Travel: Caribbean & Mexico': 86,\n",
       " 'Travel: USA & Canada': 87,\n",
       " 'Travel: Asia': 88,\n",
       " 'Travel: Africa': 89,\n",
       " 'Specialty Travel': 90,\n",
       " 'Travel: Middle East': 91,\n",
       " 'Travel: Europe': 92,\n",
       " 'Travel: Australia & Oceania': 93,\n",
       " 'Travel Writing': 94,\n",
       " 'U.S. History': 95,\n",
       " 'Military History': 96,\n",
       " 'World History': 97,\n",
       " 'Science': 98,\n",
       " 'Technology': 99,\n",
       " 'Exercise': 100,\n",
       " 'Health & Reference': 101,\n",
       " 'Alternative Therapies': 102,\n",
       " 'Diet & Nutrition': 103,\n",
       " 'Philosophy': 104,\n",
       " 'Religion': 105,\n",
       " 'Bibles': 106,\n",
       " 'Beauty': 107,\n",
       " 'Personal Finance': 108,\n",
       " 'Personal Growth': 109,\n",
       " 'Inspiration & Motivation': 110,\n",
       " 'Test Preparation': 111,\n",
       " 'Language': 112,\n",
       " 'Home & Garden': 113,\n",
       " 'Crafts & Hobbies': 114,\n",
       " 'Weddings': 115,\n",
       " 'Performing Arts': 116,\n",
       " 'Writing': 117,\n",
       " 'Design': 118,\n",
       " 'Film': 119,\n",
       " 'Music': 120,\n",
       " 'Photography': 121,\n",
       " 'Art': 122,\n",
       " 'Management': 123,\n",
       " 'Marketing': 124,\n",
       " 'Economics': 125,\n",
       " 'Arts & Entertainment Biographies & Memoirs': 126,\n",
       " 'Literary Figure Biographies & Memoirs': 127,\n",
       " 'Historical Figure Biographies & Memoirs': 128,\n",
       " 'Political Figure Biographies & Memoirs': 129,\n",
       " 'Native American History': 130,\n",
       " '20th Century U.S. History': 131,\n",
       " '21st Century U.S. History': 132,\n",
       " '19th Century U.S. History': 133,\n",
       " 'Colonial/Revolutionary Period': 134,\n",
       " 'Civil War Period': 135,\n",
       " 'World War II Military History': 136,\n",
       " 'World War I Military History': 137,\n",
       " '1950 – Present Military History': 138,\n",
       " 'African World History': 139,\n",
       " 'Ancient World History': 140,\n",
       " 'Middle Eastern World History': 141,\n",
       " 'North American World History': 142,\n",
       " 'European World History': 143,\n",
       " 'Latin American World History': 144,\n",
       " 'Asian World History': 145}"
      ]
     },
     "execution_count": 4,
     "metadata": {},
     "output_type": "execute_result"
    }
   ],
   "source": [
    "with open('./value_dict.pt', 'rb') as f:\n",
    "    value_dict = torch.load(f)\n",
    "value_dict\n",
    "\n"
   ]
  },
  {
   "cell_type": "code",
   "execution_count": 7,
   "metadata": {},
   "outputs": [
    {
     "data": {
      "text/plain": [
       "defaultdict(set,\n",
       "            {'Root': {'Children’s Books',\n",
       "              'Classics',\n",
       "              'Fiction',\n",
       "              'Humor',\n",
       "              'Nonfiction',\n",
       "              'Poetry',\n",
       "              'Teen & Young Adult'},\n",
       "             'Children’s Books': {'Children’s Middle Grade Books',\n",
       "              'Step Into Reading'},\n",
       "             'Fiction': {'Fantasy',\n",
       "              'Gothic & Horror',\n",
       "              'Graphic Novels & Manga',\n",
       "              'Historical Fiction',\n",
       "              'Literary Fiction',\n",
       "              'Military Fiction',\n",
       "              'Mystery & Suspense',\n",
       "              'Paranormal Fiction',\n",
       "              'Romance',\n",
       "              'Science Fiction',\n",
       "              'Spiritual Fiction',\n",
       "              'Western Fiction',\n",
       "              'Women’s Fiction'},\n",
       "             'Nonfiction': {'Arts & Entertainment',\n",
       "              'Biography & Memoir',\n",
       "              'Business',\n",
       "              'Cooking',\n",
       "              'Crafts, Home & Garden',\n",
       "              'Games',\n",
       "              'Health & Fitness',\n",
       "              'History',\n",
       "              'Parenting',\n",
       "              'Pets',\n",
       "              'Politics',\n",
       "              'Popular Science',\n",
       "              'Psychology',\n",
       "              'Reference',\n",
       "              'Religion & Philosophy',\n",
       "              'Self-Improvement',\n",
       "              'Sports',\n",
       "              'Travel'},\n",
       "             'Teen & Young Adult': {'Teen & Young Adult Action & Adventure',\n",
       "              'Teen & Young Adult Fantasy Fiction',\n",
       "              'Teen & Young Adult Fiction',\n",
       "              'Teen & Young Adult Historical Fiction',\n",
       "              'Teen & Young Adult Mystery & Suspense',\n",
       "              'Teen & Young Adult Nonfiction',\n",
       "              'Teen & Young Adult Romance',\n",
       "              'Teen & Young Adult Science Fiction',\n",
       "              'Teen & Young Adult Social Issues'},\n",
       "             'Classics': {'Fiction Classics',\n",
       "              'Literary Collections',\n",
       "              'Literary Criticism',\n",
       "              'Nonfiction Classics'},\n",
       "             'Children’s Middle Grade Books': {'Children’s Middle Grade Action & Adventure Books',\n",
       "              'Children’s Middle Grade Fantasy & Magical Books',\n",
       "              'Children’s Middle Grade Historical Books',\n",
       "              'Children’s Middle Grade Mystery & Detective Books',\n",
       "              'Children’s Middle Grade Sports Books'},\n",
       "             'Fantasy': {'Contemporary Fantasy',\n",
       "              'Epic Fantasy',\n",
       "              'Fairy Tales',\n",
       "              'Urban Fantasy'},\n",
       "             'Mystery & Suspense': {'Cozy Mysteries',\n",
       "              'Crime Mysteries',\n",
       "              'Espionage Mysteries',\n",
       "              'Noir Mysteries',\n",
       "              'Suspense & Thriller'},\n",
       "             'Romance': {'Contemporary Romance',\n",
       "              'Erotica',\n",
       "              'Historical Romance',\n",
       "              'New Adult Romance',\n",
       "              'Paranormal Romance',\n",
       "              'Regency Romance',\n",
       "              'Suspense Romance',\n",
       "              'Western Romance'},\n",
       "             'Science Fiction': {'Cyber Punk',\n",
       "              'Military Science Fiction',\n",
       "              'Space Opera'},\n",
       "             'Politics': {'Domestic Politics', 'World Politics'},\n",
       "             'Cooking': {'Baking & Desserts',\n",
       "              'Cooking Methods',\n",
       "              'Food Memoir & Travel',\n",
       "              'Regional & Ethnic Cooking',\n",
       "              'Wine & Beverage'},\n",
       "             'Travel': {'Specialty Travel',\n",
       "              'Travel Writing',\n",
       "              'Travel: Africa',\n",
       "              'Travel: Asia',\n",
       "              'Travel: Australia & Oceania',\n",
       "              'Travel: Caribbean & Mexico',\n",
       "              'Travel: Central & South America',\n",
       "              'Travel: Europe',\n",
       "              'Travel: Middle East',\n",
       "              'Travel: USA & Canada'},\n",
       "             'History': {'Military History', 'U.S. History', 'World History'},\n",
       "             'Popular Science': {'Science', 'Technology'},\n",
       "             'Health & Fitness': {'Alternative Therapies',\n",
       "              'Diet & Nutrition',\n",
       "              'Exercise',\n",
       "              'Health & Reference'},\n",
       "             'Religion & Philosophy': {'Bibles', 'Philosophy', 'Religion'},\n",
       "             'Self-Improvement': {'Beauty',\n",
       "              'Inspiration & Motivation',\n",
       "              'Personal Finance',\n",
       "              'Personal Growth'},\n",
       "             'Reference': {'Language', 'Test Preparation'},\n",
       "             'Crafts, Home & Garden': {'Crafts & Hobbies',\n",
       "              'Home & Garden',\n",
       "              'Weddings'},\n",
       "             'Arts & Entertainment': {'Art',\n",
       "              'Design',\n",
       "              'Film',\n",
       "              'Music',\n",
       "              'Performing Arts',\n",
       "              'Photography',\n",
       "              'Writing'},\n",
       "             'Business': {'Economics', 'Management', 'Marketing'},\n",
       "             'Biography & Memoir': {'Arts & Entertainment Biographies & Memoirs',\n",
       "              'Historical Figure Biographies & Memoirs',\n",
       "              'Literary Figure Biographies & Memoirs',\n",
       "              'Political Figure Biographies & Memoirs'},\n",
       "             'U.S. History': {'19th Century U.S. History',\n",
       "              '20th Century U.S. History',\n",
       "              '21st Century U.S. History',\n",
       "              'Civil War Period',\n",
       "              'Colonial/Revolutionary Period',\n",
       "              'Native American History'},\n",
       "             'Military History': {'1950 – Present Military History',\n",
       "              'World War I Military History',\n",
       "              'World War II Military History'},\n",
       "             'World History': {'African World History',\n",
       "              'Ancient World History',\n",
       "              'Asian World History',\n",
       "              'European World History',\n",
       "              'Latin American World History',\n",
       "              'Middle Eastern World History',\n",
       "              'North American World History'}})"
      ]
     },
     "execution_count": 7,
     "metadata": {},
     "output_type": "execute_result"
    }
   ],
   "source": [
    "hiera, _label_dict, r_hiera, depths = get_hierarchy_info('bgc.taxonomy')\n",
    "hiera"
   ]
  },
  {
   "cell_type": "code",
   "execution_count": 8,
   "metadata": {},
   "outputs": [
    {
     "data": {
      "text/plain": [
       "58715"
      ]
     },
     "execution_count": 8,
     "metadata": {},
     "output_type": "execute_result"
    }
   ],
   "source": [
    "len(train_data)"
   ]
  },
  {
   "cell_type": "code",
   "execution_count": 16,
   "metadata": {},
   "outputs": [],
   "source": [
    "def hamming_distance_by_matrix(labels):\n",
    "    return torch.matmul(labels, (1 - labels).T) + torch.matmul(1 - labels, labels.T)"
   ]
  },
  {
   "cell_type": "code",
   "execution_count": 14,
   "metadata": {},
   "outputs": [
    {
     "data": {
      "text/plain": [
       "torch.Size([80, 146])"
      ]
     },
     "execution_count": 14,
     "metadata": {},
     "output_type": "execute_result"
    }
   ],
   "source": [
    "# randomly sample 80 sample from train_data\n",
    "random.seed(3)\n",
    "batch_data = random.sample(train_data, 80)\n",
    "\n",
    "batch_labels = []\n",
    "for data in batch_data:\n",
    "    batch_labels.append([value_dict[label] for label in data['label']])\n",
    "\n",
    "# create one hot labels\n",
    "one_hot_labels = []\n",
    "for labels in batch_labels:\n",
    "    one_hot_labels.append(torch.zeros(len(value_dict)))\n",
    "    for label in labels:\n",
    "        one_hot_labels[-1][label] = 1\n",
    "one_hot_labels = torch.stack(one_hot_labels)\n",
    "one_hot_labels.shape"
   ]
  },
  {
   "cell_type": "code",
   "execution_count": 29,
   "metadata": {},
   "outputs": [
    {
     "data": {
      "text/plain": [
       "[(5.0, 636),\n",
       " (4.0, 578),\n",
       " (6.0, 461),\n",
       " (7.0, 398),\n",
       " (3.0, 320),\n",
       " (8.0, 273),\n",
       " (9.0, 114),\n",
       " (1.0, 100),\n",
       " (0.0, 92),\n",
       " (2.0, 91),\n",
       " (10.0, 61),\n",
       " (11.0, 31),\n",
       " (12.0, 5)]"
      ]
     },
     "execution_count": 29,
     "metadata": {},
     "output_type": "execute_result"
    }
   ],
   "source": [
    "from collections import Counter\n",
    "hamming_dist = hamming_distance_by_matrix(one_hot_labels)\n",
    "\n",
    "# get the upper triangle of the hamming distance matrix\n",
    "upper_tri = torch.triu(hamming_dist, diagonal=1)\n",
    "\n",
    "# flat the upper triangle\n",
    "flat_upper_tri = upper_tri.flatten()\n",
    "\n",
    "freq_list = dict(Counter(flat_upper_tri.numpy()))\n",
    "\n",
    "# reduce the frequency of hamming distance 0 with (N + 1) * N / 2\n",
    "freq_list[0] -= (len(one_hot_labels) + 1) * len(one_hot_labels) / 2\n",
    "freq_list[0] = int(freq_list[0])\n",
    "\n",
    "sorted(freq_list.items(), key=lambda x: x[1], reverse=True)"
   ]
  },
  {
   "cell_type": "code",
   "execution_count": 31,
   "metadata": {},
   "outputs": [
    {
     "data": {
      "text/plain": [
       "tensor(20., dtype=torch.float64)"
      ]
     },
     "execution_count": 31,
     "metadata": {},
     "output_type": "execute_result"
    }
   ],
   "source": [
    "1 + torch.tensor(19.0, dtype=torch.float64)"
   ]
  },
  {
   "cell_type": "code",
   "execution_count": 35,
   "metadata": {},
   "outputs": [
    {
     "name": "stdout",
     "output_type": "stream",
     "text": [
      "torch.Size([3, 1]) torch.Size([3])\n"
     ]
    }
   ],
   "source": [
    "a = torch.from_numpy(np.array([1, 2, 3]))\n",
    "b = a.view(-1, 1)\n",
    "print(b.shape, a.shape)"
   ]
  },
  {
   "cell_type": "code",
   "execution_count": 33,
   "metadata": {},
   "outputs": [
    {
     "data": {
      "text/plain": [
       "torch.Size([1, 3])"
      ]
     },
     "execution_count": 33,
     "metadata": {},
     "output_type": "execute_result"
    }
   ],
   "source": [
    "a.view(1, -1).shape"
   ]
  },
  {
   "cell_type": "code",
   "execution_count": 5,
   "metadata": {},
   "outputs": [
    {
     "name": "stderr",
     "output_type": "stream",
     "text": [
      "/home/simon/miniconda3/envs/multi/lib/python3.7/site-packages/ipykernel_launcher.py:3: RuntimeWarning: divide by zero encountered in long_scalars\n",
      "  This is separate from the ipykernel package so we can avoid doing imports until\n"
     ]
    },
    {
     "data": {
      "text/plain": [
       "tensor([1.6487, 2.7183,    inf], dtype=torch.float64)"
      ]
     },
     "execution_count": 5,
     "metadata": {},
     "output_type": "execute_result"
    }
   ],
   "source": [
    "a = np.array([1, 2, 3])\n",
    "\n",
    "torch.tensor([torch.exp(torch.tensor(1/ (max(a) - a[i]))) for i in range(len(a))])"
   ]
  },
  {
   "cell_type": "code",
   "execution_count": null,
   "metadata": {},
   "outputs": [],
   "source": []
  }
 ],
 "metadata": {
  "kernelspec": {
   "display_name": "multi",
   "language": "python",
   "name": "python3"
  },
  "language_info": {
   "codemirror_mode": {
    "name": "ipython",
    "version": 3
   },
   "file_extension": ".py",
   "mimetype": "text/x-python",
   "name": "python",
   "nbconvert_exporter": "python",
   "pygments_lexer": "ipython3",
   "version": "3.7.12"
  },
  "orig_nbformat": 4
 },
 "nbformat": 4,
 "nbformat_minor": 2
}
